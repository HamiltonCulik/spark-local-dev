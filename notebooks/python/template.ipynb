{
 "cells": [
  {
   "cell_type": "code",
   "execution_count": null,
   "id": "cf3058de-00e5-4e0e-b261-798f7af78728",
   "metadata": {},
   "outputs": [],
   "source": [
    "from pyspark.sql import SparkSession\n",
    "\n",
    "master_url = \"spark://spark-master:7077\"\n",
    "\n",
    "spark = SparkSession.builder \\\n",
    "    .master(master_url) \\\n",
    "    .appName(\"JupyterSparkCluster\") \\\n",
    "    .config(\"spark.driver.host\", \"jupyter-lab\") \\\n",
    "    .getOrCreate()\n",
    "\n",
    "# Get the SparkContext from the session\n",
    "sc = spark.sparkContext\n",
    "sc.setLogLevel(\"WARN\")\n",
    "\n",
    "# You can check the Spark UI (http://localhost:4040 for the application UI)\n",
    "# to see this application running.\n",
    "print(f\"Spark App Name: {sc.appName}\")\n",
    "print(f\"Spark Master: {sc.master}\")\n"
   ]
  },
  {
   "cell_type": "code",
   "execution_count": null,
   "id": "a0a0531e-968d-494e-b07c-bb8f684cff48",
   "metadata": {},
   "outputs": [],
   "source": [
    "# --- Run a Test Job ---\n",
    "# Create a simple DataFrame using pure Spark\n",
    "data = [(\"Alice\", 28), (\"Bob\", 35), (\"Charlie\", 42)]\n",
    "columns = [\"Name\", \"Age\"]\n",
    "df = spark.createDataFrame(data, columns)\n",
    "\n",
    "print(\"Sample DataFrame:\")\n",
    "df.show()\n",
    "\n",
    "# Perform a simple transformation\n",
    "df_older = df.withColumn(\"Age_in_10_years\", df.Age + 10)\n",
    "\n",
    "print(\"Transformed DataFrame:\")\n",
    "df_older.show()\n",
    "\n"
   ]
  },
  {
   "cell_type": "code",
   "execution_count": null,
   "id": "4147dbc2-9b8b-4c5a-b3d6-e719a41c534b",
   "metadata": {},
   "outputs": [],
   "source": [
    "# Create a simple Delta Table\n",
    "data = [(\"Alice\", 28), (\"Bob\", 35), (\"Charlie\", 42)]\n",
    "columns = [\"Name\", \"Age\"]\n",
    "df = spark.createDataFrame(data, columns)\n",
    "\n",
    "df.write.format(\"delta\").mode(\"overwrite\").saveAsTable(\"test_delta_table\")\n",
    "\n",
    "spark.read.table(\"test_delta_table\").show()"
   ]
  },
  {
   "cell_type": "code",
   "execution_count": null,
   "id": "4eaeea3b-39a0-4d27-95cf-bed5ca87b22d",
   "metadata": {},
   "outputs": [],
   "source": [
    "# To stop the SparkSession (and release the resources on the cluster)\n",
    "spark.stop()"
   ]
  }
 ],
 "metadata": {
  "kernelspec": {
   "display_name": "Python 3 (ipykernel)",
   "language": "python",
   "name": "python3"
  },
  "language_info": {
   "codemirror_mode": {
    "name": "ipython",
    "version": 3
   },
   "file_extension": ".py",
   "mimetype": "text/x-python",
   "name": "python",
   "nbconvert_exporter": "python",
   "pygments_lexer": "ipython3",
   "version": "3.10.12"
  }
 },
 "nbformat": 4,
 "nbformat_minor": 5
}
